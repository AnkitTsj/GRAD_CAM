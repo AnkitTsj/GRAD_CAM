{
 "cells": [
  {
   "cell_type": "code",
   "id": "initial_id",
   "metadata": {
    "collapsed": true,
    "ExecuteTime": {
     "end_time": "2025-01-09T13:47:53.169042Z",
     "start_time": "2025-01-09T13:47:53.165089Z"
    }
   },
   "source": [
    "from grad_cam import *\n",
    "import random\n",
    "import torchvision"
   ],
   "outputs": [],
   "execution_count": 4
  },
  {
   "metadata": {
    "ExecuteTime": {
     "end_time": "2025-01-09T13:47:55.419829Z",
     "start_time": "2025-01-09T13:47:53.749837Z"
    }
   },
   "cell_type": "code",
   "source": [
    "\n",
    "# Set up model\n",
    "model = torchvision.models.vgg16(pretrained=True)\n",
    "target_layer = model.features[30]\n",
    "\n",
    "# Set paths\n",
    "main_dir = \"D:/image_detection_data/images/\"\n",
    "img_dir = os.listdir(main_dir)\n",
    "output_dir = \"outputs\"  # Optional: directory to save outputs"
   ],
   "id": "ef9f312118132321",
   "outputs": [],
   "execution_count": 5
  },
  {
   "metadata": {
    "ExecuteTime": {
     "end_time": "2025-01-09T13:48:04.627240Z",
     "start_time": "2025-01-09T13:48:03.432339Z"
    }
   },
   "cell_type": "code",
   "source": [
    "\n",
    "image_path = main_dir + random.choice(img_dir)# Replace with your image path\n",
    "# Generate visualizations\n",
    "visualize_gradcam(\n",
    "    image_path=image_path,\n",
    "    model=model,\n",
    "    target_layer=target_layer,\n",
    "    output_size=(640, 640),\n",
    "    output_dir=output_dir,\n",
    "    if_show = False\n",
    ")"
   ],
   "id": "b835ae32ce716fe2",
   "outputs": [
    {
     "name": "stdout",
     "output_type": "stream",
     "text": [
      "Target_class :  160\n",
      "Predicted class: Afghan Hound\n"
     ]
    }
   ],
   "execution_count": 6
  },
  {
   "metadata": {
    "ExecuteTime": {
     "end_time": "2025-01-09T13:48:50.264161Z",
     "start_time": "2025-01-09T13:48:49.471214Z"
    }
   },
   "cell_type": "code",
   "source": [
    "\n",
    "image_path = main_dir + random.choice(img_dir)# Replace with your image path\n",
    "# Generate visualizations\n",
    "visualize_gradcam(\n",
    "    image_path=image_path,\n",
    "    model=model,\n",
    "    target_layer=target_layer,\n",
    "    output_size=(640, 640),\n",
    "    output_dir=output_dir,\n",
    "    if_show = False\n",
    ")"
   ],
   "id": "ee5ac8e859c139f3",
   "outputs": [
    {
     "name": "stdout",
     "output_type": "stream",
     "text": [
      "Target_class :  929\n",
      "Predicted class: ice pop\n"
     ]
    }
   ],
   "execution_count": 9
  },
  {
   "metadata": {
    "ExecuteTime": {
     "end_time": "2025-01-09T13:48:58.126429Z",
     "start_time": "2025-01-09T13:48:57.371106Z"
    }
   },
   "cell_type": "code",
   "source": [
    "\n",
    "image_path = main_dir + random.choice(img_dir)# Replace with your image path\n",
    "# Generate visualizations\n",
    "visualize_gradcam(\n",
    "    image_path=image_path,\n",
    "    model=model,\n",
    "    target_layer=target_layer,\n",
    "    output_size=(640, 640),\n",
    "    output_dir=output_dir,\n",
    "    if_show = False\n",
    ")"
   ],
   "id": "989666d1e4a79440",
   "outputs": [
    {
     "name": "stdout",
     "output_type": "stream",
     "text": [
      "Target_class :  821\n",
      "Predicted class: through arch bridge\n"
     ]
    }
   ],
   "execution_count": 10
  },
  {
   "metadata": {
    "ExecuteTime": {
     "end_time": "2025-01-09T13:49:02.151688Z",
     "start_time": "2025-01-09T13:49:01.363244Z"
    }
   },
   "cell_type": "code",
   "source": [
    "\n",
    "image_path = main_dir + random.choice(img_dir)# Replace with your image path\n",
    "# Generate visualizations\n",
    "visualize_gradcam(\n",
    "    image_path=image_path,\n",
    "    model=model,\n",
    "    target_layer=target_layer,\n",
    "    output_size=(640, 640),\n",
    "    output_dir=output_dir,\n",
    "    if_show = False\n",
    ")"
   ],
   "id": "fe4d0cc764ba2f8f",
   "outputs": [
    {
     "name": "stdout",
     "output_type": "stream",
     "text": [
      "Target_class :  430\n",
      "Predicted class: basketball\n"
     ]
    }
   ],
   "execution_count": 11
  },
  {
   "metadata": {},
   "cell_type": "code",
   "outputs": [],
   "execution_count": null,
   "source": "",
   "id": "88b664202e84318d"
  }
 ],
 "metadata": {
  "kernelspec": {
   "display_name": "Python 3",
   "language": "python",
   "name": "python3"
  },
  "language_info": {
   "codemirror_mode": {
    "name": "ipython",
    "version": 2
   },
   "file_extension": ".py",
   "mimetype": "text/x-python",
   "name": "python",
   "nbconvert_exporter": "python",
   "pygments_lexer": "ipython2",
   "version": "2.7.6"
  }
 },
 "nbformat": 4,
 "nbformat_minor": 5
}
